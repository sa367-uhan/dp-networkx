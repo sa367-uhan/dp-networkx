{
 "cells": [
  {
   "cell_type": "markdown",
   "metadata": {
    "hide_cell": true
   },
   "source": [
    "<span class='note'>*Make me look good.* Click on the cell below and press <kbd>Ctrl</kbd>-<kbd>Enter</kbd>.</span>"
   ]
  },
  {
   "cell_type": "code",
   "execution_count": null,
   "metadata": {
    "collapsed": false,
    "hide_cell": true
   },
   "outputs": [],
   "source": [
    "from IPython.core.display import HTML\n",
    "def css_styling():\n",
    "    styles = open('css/custom.css', 'r').read()\n",
    "    return HTML(styles)\n",
    "css_styling()"
   ]
  },
  {
   "cell_type": "markdown",
   "metadata": {
    "hide_cell": true
   },
   "source": [
    "<h5 class='prehead'>SA367 &middot; Mathematical Models for Decision Making &middot; Spring 2017 &middot; Uhan</h5>\n",
    "\n",
    "<h5 class='lesson'>Lesson 9.</h5>\n",
    "\n",
    "<h1 class='lesson_title'>Solving Dynamic Programs with networkx</h1>"
   ]
  },
  {
   "cell_type": "markdown",
   "metadata": {},
   "source": [
    "## Overview"
   ]
  },
  {
   "cell_type": "markdown",
   "metadata": {},
   "source": [
    "* In this lesson, we'll revisit a few examples of dynamic programs and solve them with `networkx`."
   ]
  },
  {
   "cell_type": "markdown",
   "metadata": {},
   "source": [
    "## The knapsack problem, revisited"
   ]
  },
  {
   "cell_type": "markdown",
   "metadata": {},
   "source": [
    "You are a thief deciding which precious metals to steal from a vault:\n",
    "                                  \n",
    "|    | Metal    | Weight (kg) | Value |\n",
    "|:---|:---------|:------------|:------|\n",
    "| 1  | Gold     | 3           | 11    |\n",
    "| 2  | Silver   | 2           | 7     |\n",
    "| 3  | Platinum | 4           | 12    |\n",
    "                                  \n",
    "You have a knapsack that can hold at most 8 kg. If you decide to take a particular metal, you must take all of it. Which items should you take to maximize the value of your theft?"
   ]
  },
  {
   "cell_type": "markdown",
   "metadata": {},
   "source": [
    "* Recall that we formulated this problem as a dynamic program with the following longest path representation:\n",
    "    - Stage $t$: consider item $t$\n",
    "    - Node $t_n$: $n$ kgs left in knapsack at stage $t$ (with items $t, t+1, \\dots$ remaining)"
   ]
  },
  {
   "cell_type": "markdown",
   "metadata": {},
   "source": [
    "![DP for knapsack example](img/knapsack.png)"
   ]
  },
  {
   "cell_type": "markdown",
   "metadata": {},
   "source": [
    "* We know how to solve shortest/longest path problems using `networkx`, so we can apply the same ideas here.\n",
    "\n",
    "* There is a Python data structure that makes this a little easier..."
   ]
  },
  {
   "cell_type": "markdown",
   "metadata": {},
   "source": [
    "### Tuples"
   ]
  },
  {
   "cell_type": "markdown",
   "metadata": {},
   "source": [
    "* A __tuple__ is like a list, except once it's been defined, it cannot be changed.\n",
    "\n",
    "* A tuple is written as a sequence of comma-separated items between _round_ brackets. For example:"
   ]
  },
  {
   "cell_type": "code",
   "execution_count": null,
   "metadata": {
    "collapsed": true
   },
   "outputs": [],
   "source": [
    "# Define a tuple corresponding to taking \n",
    "# silver with 5 kgs left in the knapsack\n",
    "stage = (2, 5)"
   ]
  },
  {
   "cell_type": "markdown",
   "metadata": {},
   "source": [
    "* Tuples are ideal for things like names of nodes &mdash; things that you want to make permanent and  not accidentally change."
   ]
  },
  {
   "cell_type": "markdown",
   "metadata": {},
   "source": [
    "### Back to the knapsack problem..."
   ]
  },
  {
   "cell_type": "markdown",
   "metadata": {},
   "source": [
    "* We can use a tuple to represent the name of each node in our dynamic program, since each node's name has two distinct parts: the stage and the state.\n",
    "\n",
    "* Before we do anything, we need to import `networkx` and `bellmanford`:"
   ]
  },
  {
   "cell_type": "code",
   "execution_count": null,
   "metadata": {
    "collapsed": true
   },
   "outputs": [],
   "source": [
    "import networkx as nx\n",
    "import bellmanford as bf"
   ]
  },
  {
   "cell_type": "markdown",
   "metadata": {},
   "source": [
    "* Let's begin by creating an empty graph:"
   ]
  },
  {
   "cell_type": "code",
   "execution_count": null,
   "metadata": {
    "collapsed": true
   },
   "outputs": [],
   "source": [
    "# Create empty graph\n",
    "G = nx.DiGraph()"
   ]
  },
  {
   "cell_type": "markdown",
   "metadata": {},
   "source": [
    "* Next, let's add the stage-state nodes to the graph, using `for` loops. Remember that `range(a, b)` iterates over the integers `a, a + 1, ..., b - 1`."
   ]
  },
  {
   "cell_type": "code",
   "execution_count": null,
   "metadata": {
    "collapsed": true
   },
   "outputs": [],
   "source": [
    "# Add the stage-state nodes\n",
    "for t in range(1, 5):\n",
    "    for n in range(0, 9):\n",
    "        G.add_node((t, n))"
   ]
  },
  {
   "cell_type": "markdown",
   "metadata": {},
   "source": [
    "* We also need to add the special \"end\" node:"
   ]
  },
  {
   "cell_type": "code",
   "execution_count": null,
   "metadata": {
    "collapsed": true
   },
   "outputs": [],
   "source": [
    "# Add the end node\n",
    "G.add_node(\"end\")"
   ]
  },
  {
   "cell_type": "markdown",
   "metadata": {},
   "source": [
    "* Now we need to add the edges. \n",
    "\n",
    "* There are a lot of them, so we'll want to use some for loops.\n",
    "\n",
    "* The best way to use for loops depends on the shortest/longest path representation of the DP.\n",
    "\n",
    "* For example, looking above, we can add all the red edges of length 0 &mdash; corresponding to not taking the item &mdash; in one fell swoop, like this:"
   ]
  },
  {
   "cell_type": "code",
   "execution_count": null,
   "metadata": {
    "collapsed": true
   },
   "outputs": [],
   "source": [
    "# Add edges corresponding to not taking an item\n",
    "# (red edges of length 0)\n",
    "for t in range(1, 4):\n",
    "    for n in range(0, 9):\n",
    "        G.add_edge((t, n), (t + 1, n), length=0)"
   ]
  },
  {
   "cell_type": "markdown",
   "metadata": {},
   "source": [
    "* Next, we can add the green edges of length 11, corresponding to taking item 1 (gold). Don't forget our DP is a _longest_ path problem!"
   ]
  },
  {
   "cell_type": "code",
   "execution_count": null,
   "metadata": {
    "collapsed": true
   },
   "outputs": [],
   "source": [
    "# Add edges corresponding to taking item 1\n",
    "# (green edges of length 11)\n",
    "for n in range(3, 9):\n",
    "    G.add_edge((1, n), (2, n - 3), length=-11)"
   ]
  },
  {
   "cell_type": "markdown",
   "metadata": {},
   "source": [
    "* We can do something similar for the light blue and orange edges as well:"
   ]
  },
  {
   "cell_type": "code",
   "execution_count": null,
   "metadata": {
    "collapsed": true
   },
   "outputs": [],
   "source": [
    "# Add edges corresponding to taking item 2\n",
    "# (light blue edges of length 7)\n",
    "for n in range(2, 9):\n",
    "    G.add_edge((2, n), (3, n - 2), length=-7)\n",
    "\n",
    "# Add edges corresponding to taking item 3\n",
    "# (orange edges of length 12)\n",
    "for n in range(4, 9):\n",
    "    G.add_edge((3, n), (4, n - 4), length=-12)"
   ]
  },
  {
   "cell_type": "markdown",
   "metadata": {},
   "source": [
    "* Finally, we can add the edges from the last stage nodes to the special \"end\" node:"
   ]
  },
  {
   "cell_type": "code",
   "execution_count": null,
   "metadata": {
    "collapsed": true
   },
   "outputs": [],
   "source": [
    "# Add edges from stage 4 to the end node\n",
    "for n in range(0, 9):\n",
    "    G.add_edge((4, n), \"end\", length=0)"
   ]
  },
  {
   "cell_type": "markdown",
   "metadata": {},
   "source": [
    "* Now, we can solve the dynamic program using the Bellman-Ford algorithm, just as before:"
   ]
  },
  {
   "cell_type": "code",
   "execution_count": null,
   "metadata": {
    "collapsed": false
   },
   "outputs": [],
   "source": [
    "# Solve DP by solving its shortest path representation using Bellman-Ford\n",
    "length, nodes, negative_cycle = bf.bellman_ford(G, source=(1, 8), target=\"end\", weight=\"length\")\n",
    "print(\"Shortest path length: {0}\".format(length))\n",
    "print(\"Shortest path: {0}\".format(nodes))"
   ]
  },
  {
   "cell_type": "markdown",
   "metadata": {},
   "source": [
    "### Interpreting the output"
   ]
  },
  {
   "cell_type": "markdown",
   "metadata": {},
   "source": [
    "* What is the maximum value we can carry in the knapsack?"
   ]
  },
  {
   "cell_type": "markdown",
   "metadata": {},
   "source": [
    "<!-- _Write your notes here. Double-click to edit._ -->\n",
    "The maximum value we can carry in the knapsack is 23, the negative of the shortest path length."
   ]
  },
  {
   "cell_type": "markdown",
   "metadata": {},
   "source": [
    "* Which items should we take to obtain this maximum value?"
   ]
  },
  {
   "cell_type": "markdown",
   "metadata": {},
   "source": [
    "<!-- _Write your notes here. Double-click to edit._ -->\n",
    "According to the edges in the shortest path, we should take the gold and platinum, but not the silver."
   ]
  },
  {
   "cell_type": "markdown",
   "metadata": {},
   "source": [
    "## Practice makes perfect &mdash; on your own"
   ]
  },
  {
   "cell_type": "markdown",
   "metadata": {},
   "source": [
    "* Here are a two more examples of dynamic programs we modeled in a previous lesson. Solve them using `networkx` and interpret the output."
   ]
  },
  {
   "cell_type": "markdown",
   "metadata": {
    "collapsed": true
   },
   "source": [
    "### Assigning patrol cars to precincts"
   ]
  },
  {
   "cell_type": "markdown",
   "metadata": {},
   "source": [
    "<!-- Winston and Venkataramanan Problem 13.4.4 -->\n",
    "The Simplexville Police Department wants to determine how to assign patrol cars to each precinct in Simplexville. Each precinct can be assigned 0, 1, or 2 patrol cars. The number of crimes in each precinct depends on the number of patrol cars assigned to each precinct:\n",
    "                                      \n",
    "| Precinct | 0 patrol cars | 1 patrol cars | 2 patrol cars | \n",
    "| -------- | ------------- | ------------- | ------------- | \n",
    "| 1 | 14 | 10 | 7 |\n",
    "| 2 | 25 | 19 | 17 |\n",
    "| 3 | 20 | 14 | 11 |\n",
    "                                      \n",
    "The department has 5 patrol cars. The department's goal is to minimize the total number of crimes across all 3 precincts. \n",
    "\n",
    "* We formulated this problem as a dynamic program with the following shortest path representation:\n",
    "    - Stage $t$: consider precinct $t$\n",
    "    - Node $t_n$: $n$ patrol cars still be assigned at stage $t$ (with precicnts $t, t+1, \\dots$ remaining)"
   ]
  },
  {
   "cell_type": "markdown",
   "metadata": {},
   "source": [
    "![DP for patrol car example](img/patrol.png)"
   ]
  },
  {
   "cell_type": "code",
   "execution_count": null,
   "metadata": {
    "collapsed": false
   },
   "outputs": [],
   "source": [
    "# Solve this DP using networkx here\n",
    "# Create empty graph\n",
    "G = nx.DiGraph()\n",
    "\n",
    "# Add the stage-state nodes\n",
    "for t in range(1, 5):\n",
    "    for n in range(0, 6):\n",
    "        G.add_node((t, n))\n",
    "\n",
    "# Add the end node\n",
    "G.add_node(\"end\")\n",
    "\n",
    "# Add edges corresponding to adding patrol cars to precinct 1\n",
    "# 0 cars: red edges of length 14\n",
    "for n in range(0, 6):\n",
    "    G.add_edge((1, n), (2, n), length=14)\n",
    "\n",
    "# 1 car: orange edges of length 10\n",
    "for n in range(1, 6):\n",
    "    G.add_edge((1, n), (2, n - 1), length=10)\n",
    "\n",
    "# 2 cars: green edges of length 7\n",
    "for n in range(2, 6):\n",
    "    G.add_edge((1, n), (2, n - 2), length=7)\n",
    "    \n",
    "\n",
    "# Add edges corresponding to adding patrol cars to precinct 2\n",
    "# 0 cars: red edges of length 25\n",
    "for n in range(0, 6):\n",
    "    G.add_edge((2, n), (3, n), length=25)\n",
    "\n",
    "# 1 car: orange edges of length 19\n",
    "for n in range(1, 6):\n",
    "    G.add_edge((2, n), (3, n - 1), length=19)\n",
    "\n",
    "# 2 cars: green edges of length 17\n",
    "for n in range(2, 6):\n",
    "    G.add_edge((2, n), (3, n - 2), length=17)\n",
    "    \n",
    "\n",
    "# Add edges corresponding to adding patrol cars to precinct 3\n",
    "# 0 cars: red edges of length 20\n",
    "for n in range(0, 6):\n",
    "    G.add_edge((3, n), (4, n), length=20)\n",
    "\n",
    "# 1 car: orange edges of length 14\n",
    "for n in range(1, 6):\n",
    "    G.add_edge((3, n), (4, n - 1), length=14)\n",
    "\n",
    "# 2 cars: green edges of length 11\n",
    "for n in range(2, 6):\n",
    "    G.add_edge((3, n), (4, n - 2), length=11)\n",
    "    \n",
    "# Add edges from last stage to the end node\n",
    "for n in range(0, 6):\n",
    "    G.add_edge((4, n), \"end\", length=0)\n",
    "    \n",
    "# Solve DP by solving its shortest path representation using Bellman-Ford\n",
    "length, nodes, negative_cycle = bf.bellman_ford(G, source=(1, 5), target=\"end\", weight=\"length\")\n",
    "print(\"Shortest path length: {0}\".format(length))\n",
    "print(\"Shortest path: {0}\".format(nodes))"
   ]
  },
  {
   "cell_type": "markdown",
   "metadata": {},
   "source": [
    "<!-- _Interpret the output of the DP here. Double-click to edit._ -->\n",
    "* The minimum number of crimes as a result of assigning the 5 patrol cars to the 3 precincts is 37, the shortest path length.\n",
    "\n",
    "* To achieve this minimum number of crimes, assign 2 patrol cars to precinct 1, 1 patrol car to precinct 2, and 2 patrol cars to precinct 3."
   ]
  },
  {
   "cell_type": "markdown",
   "metadata": {},
   "source": [
    "### Inventory management"
   ]
  },
  {
   "cell_type": "markdown",
   "metadata": {},
   "source": [
    "<!-- Rardin Exercise 9-26 -->\n",
    "The Dijkstra Brewing Company is planning production of its new limited run beer, Primal Pilsner. The company must supply 1 batch next month, then 2 and 4 in successive months. Each month in which the company produces the beer requires a factory setup cost of \\$5,000. Each batch of beer costs \\$2,000 to produce. Batches can be held in inventory at a cost of \\$1,000 per batch per month. Capacity limitations allow a maximum of 3 batches to be produced during each month. In addition, the size of the company's warehouse restricts the ending inventory for each month to at most 3 batches. The company has no initial inventory.\n",
    "  \n",
    "The company wants to find a production plan that will meet all demands on time and minimizes its total production and holding costs over the next 3 months. \n",
    "\n",
    "* We formulated this problem as a dynamic program with the following shortest path representation:\n",
    "    - Stage $t$: consider precinct $t$\n",
    "    - Node $t_n$: $n$ patrol cars still be assigned at stage $t$ (with precincts $t, t+1, \\dots$ remaining)"
   ]
  },
  {
   "cell_type": "markdown",
   "metadata": {},
   "source": [
    "![DP for inventory management example](img/inventory.png)"
   ]
  },
  {
   "cell_type": "code",
   "execution_count": null,
   "metadata": {
    "collapsed": false
   },
   "outputs": [],
   "source": [
    "# Solve this DP using networkx here\n",
    "# Create empty graph\n",
    "G = nx.DiGraph()\n",
    "\n",
    "# Add the stage-state nodes\n",
    "for t in range(1, 5):\n",
    "    for n in range(0, 3):\n",
    "        G.add_node((t, n))\n",
    "\n",
    "# Add the end node\n",
    "G.add_node(\"end\")\n",
    "\n",
    "# Add edges corresponding to production in month 1\n",
    "# 0 batches: green edges\n",
    "for n in range(1, 4):\n",
    "    G.add_edge((1, n), (2, n - 1), length=1*(n - 1))\n",
    "\n",
    "# 1 batch: blue edges\n",
    "for n in range(0, 4):\n",
    "    G.add_edge((1, n), (2, n), length=5 + 2*(1) + 1*(n))\n",
    "\n",
    "# 2 batches: orange edges\n",
    "for n in range(0, 3):\n",
    "    G.add_edge((1, n), (2, n + 1), length=5 + 2*(2) + 1*(n + 1))\n",
    "\n",
    "# 3 batches: purple edges\n",
    "for n in range(0, 2):\n",
    "    G.add_edge((1, n), (2, n + 2), length=5 + 2*(3) + 1*(n + 2))\n",
    "    \n",
    "# Add edges corresponding to production in month 2\n",
    "# 0 batches: green edges\n",
    "for n in range(2, 4):\n",
    "    G.add_edge((2, n), (3, n - 2), length=1*(n - 2))\n",
    "\n",
    "# 1 batch: blue edges\n",
    "for n in range(1, 4):\n",
    "    G.add_edge((2, n), (3, n - 1), length=5 + 2*(1) + 1*(n - 1))\n",
    "\n",
    "# 2 batches: orange edges\n",
    "for n in range(0, 4):\n",
    "    G.add_edge((2, n), (3, n), length=5 + 2*(2) + 1*(n))\n",
    "\n",
    "# 3 batches: purple edges\n",
    "for n in range(0, 3):\n",
    "    G.add_edge((2, n), (3, n + 1), length=5 + 2*(3) + 1*(n + 1))\n",
    "    \n",
    "# Add edges corresponding to production in month 3\n",
    "# 0 batches: not possible!\n",
    "\n",
    "# 1 batch: blue edges\n",
    "for n in range(3, 4):\n",
    "    G.add_edge((3, n), (4, n - 3), length=5 + 2*(1) + 1*(n - 3))\n",
    "\n",
    "# 2 batches: orange edges\n",
    "for n in range(2, 4):\n",
    "    G.add_edge((3, n), (4, n - 2), length=5 + 2*(2) + 1*(n - 2))\n",
    "\n",
    "# 3 batches: purple edges\n",
    "for n in range(1, 4):\n",
    "    G.add_edge((3, n), (4, n - 1), length=5 + 2*(3) + 1*(n - 1))\n",
    "  \n",
    "# Add edges from last stage to the end node\n",
    "for n in range(0, 4):\n",
    "    G.add_edge((4, n), \"end\", length=0)\n",
    "    \n",
    "# Solve DP by solving its shortest path representation using Bellman-Ford\n",
    "length, nodes, negative_cycle = bf.bellman_ford(G, source=(1, 0), target=\"end\", weight=\"length\")\n",
    "print(\"Shortest path length: {0}\".format(length))\n",
    "print(\"Shortest path: {0}\".format(nodes))"
   ]
  },
  {
   "cell_type": "markdown",
   "metadata": {},
   "source": [
    "<!-- _Interpret the output of the DP here. Double-click to edit._ -->\n",
    "* The minimum total production and holding cost over the next 3 months is 30.\n",
    "\n",
    "* To achieve this minimum cost, the company should produce 1 batch in month 1, 3 batches in month 2, and 3 batches in month 3."
   ]
  }
 ],
 "metadata": {
  "kernelspec": {
   "display_name": "Python 3",
   "language": "python",
   "name": "python3"
  },
  "language_info": {
   "codemirror_mode": {
    "name": "ipython",
    "version": 3
   },
   "file_extension": ".py",
   "mimetype": "text/x-python",
   "name": "python",
   "nbconvert_exporter": "python",
   "pygments_lexer": "ipython3",
   "version": "3.5.2"
  },
  "latex_metadata": {
   "lesson": "9",
   "lessontitle": "Solving dynamic programs with networkx",
   "shortlessontitle": "Solving dynamic programs with networkx"
  }
 },
 "nbformat": 4,
 "nbformat_minor": 0
}
